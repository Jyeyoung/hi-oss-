{
  "nbformat": 4,
  "nbformat_minor": 0,
  "metadata": {
    "colab": {
      "provenance": [],
      "authorship_tag": "ABX9TyN33kSOg0k45r0Me568lHDb",
      "include_colab_link": true
    },
    "kernelspec": {
      "name": "python3",
      "display_name": "Python 3"
    },
    "language_info": {
      "name": "python"
    }
  },
  "cells": [
    {
      "cell_type": "markdown",
      "metadata": {
        "id": "view-in-github",
        "colab_type": "text"
      },
      "source": [
        "<a href=\"https://colab.research.google.com/github/Jyeyoung/hi-oss-/blob/main/rsp_game.ipynb\" target=\"_parent\"><img src=\"https://colab.research.google.com/assets/colab-badge.svg\" alt=\"Open In Colab\"/></a>"
      ]
    },
    {
      "cell_type": "code",
      "execution_count": 9,
      "metadata": {
        "colab": {
          "base_uri": "https://localhost:8080/"
        },
        "id": "LX5qPqUbxxh5",
        "outputId": "abf365b0-c0a2-43e9-d31a-8b8589107ec9"
      },
      "outputs": [
        {
          "output_type": "stream",
          "name": "stdout",
          "text": [
            "Overwriting rsp_game/RSP.py\n"
          ]
        }
      ],
      "source": [
        "%%writefile rsp_game/RSP.py\n",
        "import random as r\n",
        "\n",
        "srp = ['가위','바위','보']\n",
        "challenge,win,draw,lose =0,0,0,0\n",
        "\n",
        "while True:\n",
        "    challenge += 1\n",
        "    csrp = r.randint(0,2)\n",
        "    mySrp= input('가위,바위,보:')\n",
        "    if mySrp =='가위':\n",
        "        isrp = 0\n",
        "    elif mySrp == '바위':\n",
        "        isrp = 1\n",
        "    elif mySrp == '보':\n",
        "        isrp = 2\n",
        "    else:\n",
        "        print('잘못입력하였습니다.')\n",
        "        break\n",
        "\n",
        "##가위 바위 보 판별\n",
        "    if isrp == csrp:\n",
        "        print(f'나:{mySrp}, 컴퓨터:{srp[csrp]}')\n",
        "        print('비겼습니다. \\n')\n",
        "        draw += 1\n",
        "    elif isrp == (csrp-2) or isrp==(csrp+1):\n",
        "        print(f'나:{mySrp}, 컴퓨터:{srp[csrp]}')\n",
        "        print('내가 이겼습니다. \\n')\n",
        "        win += 1\n",
        "    else:\n",
        "        print(f'나:{mySrp}, 컴퓨터:{srp[csrp]}')\n",
        "        print('컴퓨터가 이겼습니다.\\n')\n",
        "        lose += 1\n",
        "\n",
        "    retry = input('계속하시겠습니까(y/n)?')\n",
        "    if retry != 'y':\n",
        "        break\n",
        "    else:\n",
        "        continue\n",
        "print('\\n')\n",
        "print(f'전적:{challenge}전/{win}승/{draw}무/{lose}패')\n",
        "print('프로그램 종료!')\n"
      ]
    },
    {
      "cell_type": "code",
      "source": [
        "%%writefile setup.py\n",
        "import setuptools\n",
        "\n",
        "setuptools.setup(\n",
        "  include_package_data=True,\n",
        "  name = 'rsp_game',\n",
        "  version = '0.0.1',\n",
        "  description='nice game',\n",
        "  author = 'jyy',\n",
        "  url = 'https://github.com/Jyeyoung/rsp_game0001',\n",
        "  download_url = 'https://github.com/Jyeyoung/rsp_game0001',\n",
        "  packages = ['rsp_game'],\n",
        "  classifiers = [\n",
        "    \"Programming Language :: Python :: 3\",\n",
        "  ]\n",
        ")\n"
      ],
      "metadata": {
        "colab": {
          "base_uri": "https://localhost:8080/"
        },
        "id": "rDzt7wKb0nMB",
        "outputId": "5600ee80-c5cd-42de-9771-8cab2cef0780"
      },
      "execution_count": 10,
      "outputs": [
        {
          "output_type": "stream",
          "name": "stdout",
          "text": [
            "Overwriting setup.py\n"
          ]
        }
      ]
    },
    {
      "cell_type": "code",
      "source": [
        "!pip install wheel"
      ],
      "metadata": {
        "colab": {
          "base_uri": "https://localhost:8080/"
        },
        "id": "LMYijmg65ZD7",
        "outputId": "94c3ef2e-e2a4-40cc-fe80-6c7a60f61cd1"
      },
      "execution_count": 11,
      "outputs": [
        {
          "output_type": "stream",
          "name": "stdout",
          "text": [
            "Requirement already satisfied: wheel in /usr/local/lib/python3.10/dist-packages (0.43.0)\n"
          ]
        }
      ]
    },
    {
      "cell_type": "code",
      "source": [
        "!pip install twine"
      ],
      "metadata": {
        "colab": {
          "base_uri": "https://localhost:8080/"
        },
        "id": "ratn4RPv5e9x",
        "outputId": "db39a081-f3cd-42b1-e3fd-89f7193b5af6"
      },
      "execution_count": 12,
      "outputs": [
        {
          "output_type": "stream",
          "name": "stdout",
          "text": [
            "Requirement already satisfied: twine in /usr/local/lib/python3.10/dist-packages (5.0.0)\n",
            "Requirement already satisfied: pkginfo>=1.8.1 in /usr/local/lib/python3.10/dist-packages (from twine) (1.10.0)\n",
            "Requirement already satisfied: readme-renderer>=35.0 in /usr/local/lib/python3.10/dist-packages (from twine) (43.0)\n",
            "Requirement already satisfied: requests>=2.20 in /usr/local/lib/python3.10/dist-packages (from twine) (2.31.0)\n",
            "Requirement already satisfied: requests-toolbelt!=0.9.0,>=0.8.0 in /usr/local/lib/python3.10/dist-packages (from twine) (1.0.0)\n",
            "Requirement already satisfied: urllib3>=1.26.0 in /usr/local/lib/python3.10/dist-packages (from twine) (2.0.7)\n",
            "Requirement already satisfied: importlib-metadata>=3.6 in /usr/local/lib/python3.10/dist-packages (from twine) (7.1.0)\n",
            "Requirement already satisfied: keyring>=15.1 in /usr/lib/python3/dist-packages (from twine) (23.5.0)\n",
            "Requirement already satisfied: rfc3986>=1.4.0 in /usr/local/lib/python3.10/dist-packages (from twine) (2.0.0)\n",
            "Requirement already satisfied: rich>=12.0.0 in /usr/local/lib/python3.10/dist-packages (from twine) (13.7.1)\n",
            "Requirement already satisfied: zipp>=0.5 in /usr/local/lib/python3.10/dist-packages (from importlib-metadata>=3.6->twine) (3.18.1)\n",
            "Requirement already satisfied: nh3>=0.2.14 in /usr/local/lib/python3.10/dist-packages (from readme-renderer>=35.0->twine) (0.2.17)\n",
            "Requirement already satisfied: docutils>=0.13.1 in /usr/local/lib/python3.10/dist-packages (from readme-renderer>=35.0->twine) (0.18.1)\n",
            "Requirement already satisfied: Pygments>=2.5.1 in /usr/local/lib/python3.10/dist-packages (from readme-renderer>=35.0->twine) (2.16.1)\n",
            "Requirement already satisfied: charset-normalizer<4,>=2 in /usr/local/lib/python3.10/dist-packages (from requests>=2.20->twine) (3.3.2)\n",
            "Requirement already satisfied: idna<4,>=2.5 in /usr/local/lib/python3.10/dist-packages (from requests>=2.20->twine) (3.7)\n",
            "Requirement already satisfied: certifi>=2017.4.17 in /usr/local/lib/python3.10/dist-packages (from requests>=2.20->twine) (2024.2.2)\n",
            "Requirement already satisfied: markdown-it-py>=2.2.0 in /usr/local/lib/python3.10/dist-packages (from rich>=12.0.0->twine) (3.0.0)\n",
            "Requirement already satisfied: mdurl~=0.1 in /usr/local/lib/python3.10/dist-packages (from markdown-it-py>=2.2.0->rich>=12.0.0->twine) (0.1.2)\n"
          ]
        }
      ]
    },
    {
      "cell_type": "code",
      "source": [
        "!python setup.py bdist_wheel"
      ],
      "metadata": {
        "colab": {
          "base_uri": "https://localhost:8080/"
        },
        "id": "2MfL_4LW5huL",
        "outputId": "9371fc90-ff19-4780-f51f-562dc31cd9cf"
      },
      "execution_count": 13,
      "outputs": [
        {
          "output_type": "stream",
          "name": "stdout",
          "text": [
            "running bdist_wheel\n",
            "running build\n",
            "running build_py\n",
            "creating build\n",
            "creating build/lib\n",
            "creating build/lib/rsp_game\n",
            "copying rsp_game/RSP.py -> build/lib/rsp_game\n",
            "running egg_info\n",
            "creating rsp_game.egg-info\n",
            "writing rsp_game.egg-info/PKG-INFO\n",
            "writing dependency_links to rsp_game.egg-info/dependency_links.txt\n",
            "writing top-level names to rsp_game.egg-info/top_level.txt\n",
            "writing manifest file 'rsp_game.egg-info/SOURCES.txt'\n",
            "reading manifest file 'rsp_game.egg-info/SOURCES.txt'\n",
            "writing manifest file 'rsp_game.egg-info/SOURCES.txt'\n",
            "/usr/local/lib/python3.10/dist-packages/setuptools/_distutils/cmd.py:66: SetuptoolsDeprecationWarning: setup.py install is deprecated.\n",
            "!!\n",
            "\n",
            "        ********************************************************************************\n",
            "        Please avoid running ``setup.py`` directly.\n",
            "        Instead, use pypa/build, pypa/installer, pypa/build or\n",
            "        other standards-based tools.\n",
            "\n",
            "        See https://blog.ganssle.io/articles/2021/10/setup-py-deprecated.html for details.\n",
            "        ********************************************************************************\n",
            "\n",
            "!!\n",
            "  self.initialize_options()\n",
            "installing to build/bdist.linux-x86_64/wheel\n",
            "running install\n",
            "running install_lib\n",
            "creating build/bdist.linux-x86_64\n",
            "creating build/bdist.linux-x86_64/wheel\n",
            "creating build/bdist.linux-x86_64/wheel/rsp_game\n",
            "copying build/lib/rsp_game/RSP.py -> build/bdist.linux-x86_64/wheel/rsp_game\n",
            "running install_egg_info\n",
            "Copying rsp_game.egg-info to build/bdist.linux-x86_64/wheel/rsp_game-0.0.1-py3.10.egg-info\n",
            "running install_scripts\n",
            "creating build/bdist.linux-x86_64/wheel/rsp_game-0.0.1.dist-info/WHEEL\n",
            "creating 'dist/rsp_game-0.0.1-py3-none-any.whl' and adding 'build/bdist.linux-x86_64/wheel' to it\n",
            "adding 'rsp_game/RSP.py'\n",
            "adding 'rsp_game-0.0.1.dist-info/METADATA'\n",
            "adding 'rsp_game-0.0.1.dist-info/WHEEL'\n",
            "adding 'rsp_game-0.0.1.dist-info/top_level.txt'\n",
            "adding 'rsp_game-0.0.1.dist-info/RECORD'\n",
            "removing build/bdist.linux-x86_64/wheel\n"
          ]
        }
      ]
    },
    {
      "cell_type": "code",
      "source": [
        "!twine upload -u Joyeyoung -p pypijoyeoung12 dist/rsp_game-0.0.1-py3-none-any.whl"
      ],
      "metadata": {
        "colab": {
          "base_uri": "https://localhost:8080/"
        },
        "id": "ggdzl8vo5o9r",
        "outputId": "4dbcc591-ce1a-4086-f685-57beec0bcc6f"
      },
      "execution_count": 21,
      "outputs": [
        {
          "output_type": "stream",
          "name": "stdout",
          "text": [
            "Uploading distributions to https://upload.pypi.org/legacy/\n",
            "Uploading rsp_game-0.0.1-py3-none-any.whl\n",
            "\u001b[2K\u001b[35m100%\u001b[0m \u001b[90m━━━━━━━━━━━━━━━━━━━━━━━━━━━━━━━━━━━━━━━━\u001b[0m \u001b[32m4.4/4.4 kB\u001b[0m • \u001b[33m00:00\u001b[0m • \u001b[31m?\u001b[0m\n",
            "\u001b[?25h\u001b[33mWARNING \u001b[0m Error during upload. Retry with the --verbose option for more details.                     \n",
            "\u001b[31mERROR   \u001b[0m HTTPError: 403 Forbidden from https://upload.pypi.org/legacy/                              \n",
            "         Invalid or non-existent authentication information. See https://pypi.org/help/#invalid-auth\n",
            "         for more information.                                                                      \n"
          ]
        }
      ]
    }
  ]
}